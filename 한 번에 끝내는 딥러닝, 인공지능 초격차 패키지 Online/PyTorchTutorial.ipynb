{
  "nbformat": 4,
  "nbformat_minor": 0,
  "metadata": {
    "colab": {
      "name": "PyTorchTutorial.ipynb",
      "provenance": [],
      "toc_visible": true,
      "authorship_tag": "ABX9TyPVliy9ZGhPJ4VSvfLInqyN",
      "include_colab_link": true
    },
    "kernelspec": {
      "name": "python3",
      "display_name": "Python 3"
    },
    "language_info": {
      "name": "python"
    },
    "accelerator": "GPU"
  },
  "cells": [
    {
      "cell_type": "markdown",
      "metadata": {
        "id": "view-in-github",
        "colab_type": "text"
      },
      "source": [
        "<a href=\"https://colab.research.google.com/github/mmminji/ML-DL-STUDY/blob/master/%ED%95%9C%20%EB%B2%88%EC%97%90%20%EB%81%9D%EB%82%B4%EB%8A%94%20%EB%94%A5%EB%9F%AC%EB%8B%9D%2C%20%EC%9D%B8%EA%B3%B5%EC%A7%80%EB%8A%A5%20%EC%B4%88%EA%B2%A9%EC%B0%A8%20%ED%8C%A8%ED%82%A4%EC%A7%80%20Online/PyTorchTutorial.ipynb\" target=\"_parent\"><img src=\"https://colab.research.google.com/assets/colab-badge.svg\" alt=\"Open In Colab\"/></a>"
      ]
    },
    {
      "cell_type": "markdown",
      "source": [
        "# PyTorch Basic"
      ],
      "metadata": {
        "id": "-syxerOIrnUI"
      }
    },
    {
      "cell_type": "markdown",
      "source": [
        "## PyTorch import"
      ],
      "metadata": {
        "id": "yWR2G4e9rwqi"
      }
    },
    {
      "cell_type": "code",
      "execution_count": 2,
      "metadata": {
        "colab": {
          "base_uri": "https://localhost:8080/"
        },
        "id": "6wJvuF-irW7-",
        "outputId": "027c2bf3-3c3e-4a6d-bc2f-0f19c9683a6a"
      },
      "outputs": [
        {
          "output_type": "stream",
          "name": "stdout",
          "text": [
            "1.10.0+cu111\n"
          ]
        }
      ],
      "source": [
        "import torch\n",
        "\n",
        "print(torch.__version__)"
      ]
    },
    {
      "cell_type": "markdown",
      "source": [
        ""
      ],
      "metadata": {
        "id": "dOrghdvRsM_d"
      }
    },
    {
      "cell_type": "code",
      "source": [
        "from "
      ],
      "metadata": {
        "id": "CqD6aqlZr5qF"
      },
      "execution_count": null,
      "outputs": []
    }
  ]
}